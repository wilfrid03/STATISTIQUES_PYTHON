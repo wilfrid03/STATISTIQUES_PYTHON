{
 "cells": [
  {
   "cell_type": "markdown",
   "id": "bc196ddb",
   "metadata": {},
   "source": [
    "<h1 style=\"border:2px solid red; text-align:center;\">Analyse multivariée Python</h1>"
   ]
  },
  {
   "cell_type": "markdown",
   "id": "14c61791",
   "metadata": {},
   "source": [
    "## Introduction à l'analyse de données\n",
    "\n",
    "### Qu'est-ce que l'EDA ?\n",
    "- on va chercher à comprendre la données.\n",
    "- on va tenter d'explorer les données.\n",
    "- on recherche plus d'information à propos d'un sujet.\n",
    "- permet répondre à des questions.\n",
    "- mener une enquête de sorte à mieux comprendre les données.\n",
    "- identifier les anomalies et patterns cachés dans les données.\n",
    "- Ce n'est pas deviner, c'est avoir des hypothèses et tenter de les valider. On va tenter de prédire des choses.\n",
    "\n",
    "\n",
    "\n"
   ]
  },
  {
   "cell_type": "markdown",
   "id": "9b05cff5",
   "metadata": {},
   "source": [
    "## Type d'analyse de données\n",
    "1/ Univariée : comprendre une seule variable.\n",
    "Ex: changement d'âge ou de taille d'une personne. Par exemple, tracer la taille prise par une personne. \n",
    "   \n",
    "2/ Bivariée : comprendre la relation entre deux variables. On prend deux paramètres en même temps. Par exemple, comparer les préférences sportives entre deux groupes de personne. On pourrait répéter l'opération sur plusieurs populations.\n",
    "\n",
    "3/ Multivariée : comprendre la relation entre une variable à expliquer et plusieurs variables explicatives. Utilisable pour faire de la modélisation.\n"
   ]
  },
  {
   "cell_type": "markdown",
   "id": "a5efd88f",
   "metadata": {},
   "source": [
    "## Qu'est-ce que l'analyse de données multivariée ?\n",
    "\n",
    "On mesure l'implication de plusieurs variables dans un phénomène. Sauf qu'on ne choisit pas TOUTES les variables possibles. On choisit les variables essentielles, celles qui pourraient avoir le plus de poids.\n",
    "\n",
    "Quand utiliser ?\n",
    "- analyser des chiffres de vente par exemple,\n",
    "- on peut pas limiter les facteurs à une seule variables,\n",
    "- plusieurs aspects peuvent impacter un phénomène, une variable à expliquer (prix, vente, taille de population etc),\n",
    "- ainsi l'analyse multivariée est très importante dans l'EDA\n"
   ]
  },
  {
   "cell_type": "markdown",
   "id": "e55967f9",
   "metadata": {},
   "source": [
    "## Quelles sont les objectifs de l'analyse de données multivariée ?\n",
    "\n",
    "Les objectifs les plus importants :\n",
    "- réduire la taille des données : simplifier les données sans perdre les informations les plus importantes.\n",
    "- organisation des données : trier et grouper les données selon des caractéristiques. Avoir plus de visibilité. \n",
    "- interdépendance des données : comprendre les relations entre les données.\n",
    "- construction d'hypothèse : valider des intuitions ou renforcer des convictions. Les hypothèses c'est très important, c'est un point de départ pour l'analyse et c'est ce qui va guider l'analyse.\n"
   ]
  },
  {
   "cell_type": "markdown",
   "id": "ad209fcf",
   "metadata": {},
   "source": [
    "## Les techniques d'analyse multivariée (MVA)\n",
    "\n",
    "Pas nécessaire de les comprendre dans le détail. Le plus important est de comprendre comment on utilise une technique pour résoudre un problème.\n",
    "\n",
    "\n",
    "Les techniques les plus populaires :\n",
    "- **régression multiple** : la plus populaire. Très efficace. Permet d'évaluer la relation entre une variable dépendance et plusieurs variables indépendantes + déterminer une relation linéaire + OK pour de la prédiction SI la relation est linéaire.\n",
    "\n",
    "- **analyse discriminante** : très populaire. Classifier les observations dans différents groupes. Une fonction linéaire de discrimination est construite pour classer les observations. Ce qui permet de comprendre **quelles varaibles ont le plus d'impact sur la fonction discriminante**.\n",
    "\n",
    "- **MANOVA** : sur la variance. Permet d'évaluer la relations entre plusieurs variables catégorielles et plusieurs variables quantitatives. Intéressant pour les market trends.\n",
    "\n",
    "- **analyse de facteurs** : utile quand on a besoin d'évaluer plusieurs variables. On cherche à comprendre la structure de la donnée et pas simplement la relation. Ex: PCA.\n",
    "\n",
    "- cluster analysis : quand on a un gros volume de données, on va le passer en plus petits groupes ou en unité. On va grouper les données sur des caractéristiques similaires. Populaire dans l'**analyse de segmentation de marché**.\n"
   ]
  },
  {
   "cell_type": "markdown",
   "id": "a3264276",
   "metadata": {},
   "source": [
    "## Avantage de l'analyse multivariée\n",
    "\n",
    "Des conclusions data-driven plus précises. Vérifier les anomalies et la consistence des données. Faire du feature engineering (: analyser quels paramètres impacte quelle variable). C'est critique pour le ML. \n",
    "Data cleaning (preprocessing) : pour le ML de manière générale.  \n",
    "Gérer les valeurs sous-estimées et les valeurs sur-estimées.\n"
   ]
  },
  {
   "cell_type": "markdown",
   "id": "d2e10506",
   "metadata": {},
   "source": [
    "<h2 style=\"border:2px solid green;\">Implémentation Python - MVA + ML appliqué à la détection de diabète</h2>"
   ]
  },
  {
   "cell_type": "code",
   "execution_count": null,
   "id": "9f9f9541",
   "metadata": {},
   "outputs": [],
   "source": [
    "## voir le script MVA_ML.ipynb => exécuter dans un google colab."
   ]
  },
  {
   "cell_type": "code",
   "execution_count": null,
   "id": "bc78a02a",
   "metadata": {},
   "outputs": [],
   "source": []
  }
 ],
 "metadata": {
  "kernelspec": {
   "display_name": "Python 3 (ipykernel)",
   "language": "python",
   "name": "python3"
  },
  "language_info": {
   "codemirror_mode": {
    "name": "ipython",
    "version": 3
   },
   "file_extension": ".py",
   "mimetype": "text/x-python",
   "name": "python",
   "nbconvert_exporter": "python",
   "pygments_lexer": "ipython3",
   "version": "3.10.11"
  }
 },
 "nbformat": 4,
 "nbformat_minor": 5
}
