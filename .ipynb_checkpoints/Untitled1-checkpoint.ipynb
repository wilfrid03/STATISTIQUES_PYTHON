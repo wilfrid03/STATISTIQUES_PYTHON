{
 "cells": [
  {
   "cell_type": "markdown",
   "id": "13fe611d",
   "metadata": {},
   "source": [
    "<h1 style=\"border:solid 2px red; text-align:center; padding:15px;\" >Préparation des données de commerces pour l'application FLUX VISION</h1>"
   ]
  },
  {
   "cell_type": "markdown",
   "id": "8b6ca0bd",
   "metadata": {},
   "source": [
    "La source de la donnée : https://www.data.gouv.fr/fr/datasets/base-nationale-des-commerces-ouverte/."
   ]
  },
  {
   "cell_type": "code",
   "execution_count": 1,
   "id": "33c11712",
   "metadata": {},
   "outputs": [],
   "source": [
    "import pandas"
   ]
  },
  {
   "cell_type": "code",
   "execution_count": 2,
   "id": "e30f3973",
   "metadata": {},
   "outputs": [],
   "source": [
    "df = pandas.read_csv(\".\\\\DONNEES\\\\data.csv\", sep=\";\", decimal=\".\",\n",
    "                    dtype={\"X\":float, \"Y\":float, \"level\":str})"
   ]
  },
  {
   "cell_type": "code",
   "execution_count": 3,
   "id": "32c01f94",
   "metadata": {},
   "outputs": [
    {
     "data": {
      "text/plain": [
       "Index(['X', 'Y', 'osm_id', 'type', 'name', 'brand', 'operator', 'wheelchair',\n",
       "       'opening_hours', 'level', 'siret', 'profession_ref', 'wikidata',\n",
       "       'website', 'phone', 'email', 'facebook', 'address', 'com_insee',\n",
       "       'com_nom', 'last_update'],\n",
       "      dtype='object')"
      ]
     },
     "execution_count": 3,
     "metadata": {},
     "output_type": "execute_result"
    }
   ],
   "source": [
    "df.columns"
   ]
  },
  {
   "cell_type": "markdown",
   "id": "988d9dca",
   "metadata": {},
   "source": [
    "<p>On commence par récupérer uniquement les colonnes qui nous intéressent</p>"
   ]
  },
  {
   "cell_type": "code",
   "execution_count": 4,
   "id": "b432f032",
   "metadata": {},
   "outputs": [
    {
     "data": {
      "text/html": [
       "<div>\n",
       "<style scoped>\n",
       "    .dataframe tbody tr th:only-of-type {\n",
       "        vertical-align: middle;\n",
       "    }\n",
       "\n",
       "    .dataframe tbody tr th {\n",
       "        vertical-align: top;\n",
       "    }\n",
       "\n",
       "    .dataframe thead th {\n",
       "        text-align: right;\n",
       "    }\n",
       "</style>\n",
       "<table border=\"1\" class=\"dataframe\">\n",
       "  <thead>\n",
       "    <tr style=\"text-align: right;\">\n",
       "      <th></th>\n",
       "      <th>X</th>\n",
       "      <th>Y</th>\n",
       "      <th>type</th>\n",
       "      <th>name</th>\n",
       "      <th>address</th>\n",
       "      <th>com_insee</th>\n",
       "      <th>com_nom</th>\n",
       "    </tr>\n",
       "  </thead>\n",
       "  <tbody>\n",
       "    <tr>\n",
       "      <th>0</th>\n",
       "      <td>5.417549</td>\n",
       "      <td>43.258701</td>\n",
       "      <td>butcher</td>\n",
       "      <td>La Grande Boucherie du Cabot</td>\n",
       "      <td>NaN</td>\n",
       "      <td>13055</td>\n",
       "      <td>Marseille</td>\n",
       "    </tr>\n",
       "    <tr>\n",
       "      <th>1</th>\n",
       "      <td>1.770800</td>\n",
       "      <td>44.397664</td>\n",
       "      <td>hairdresser</td>\n",
       "      <td>Siz-O</td>\n",
       "      <td>NaN</td>\n",
       "      <td>46173</td>\n",
       "      <td>Limogne-en-Quercy</td>\n",
       "    </tr>\n",
       "    <tr>\n",
       "      <th>2</th>\n",
       "      <td>2.898969</td>\n",
       "      <td>42.691713</td>\n",
       "      <td>educational_institution</td>\n",
       "      <td>CRAF</td>\n",
       "      <td>NaN</td>\n",
       "      <td>66136</td>\n",
       "      <td>Perpignan</td>\n",
       "    </tr>\n",
       "    <tr>\n",
       "      <th>3</th>\n",
       "      <td>4.389882</td>\n",
       "      <td>44.618075</td>\n",
       "      <td>travel_agency</td>\n",
       "      <td>Ailleurs Voyages</td>\n",
       "      <td>NaN</td>\n",
       "      <td>07019</td>\n",
       "      <td>Aubenas</td>\n",
       "    </tr>\n",
       "    <tr>\n",
       "      <th>4</th>\n",
       "      <td>1.995702</td>\n",
       "      <td>44.266530</td>\n",
       "      <td>bakery</td>\n",
       "      <td>Boulangerie Patisserie</td>\n",
       "      <td>D47</td>\n",
       "      <td>12150</td>\n",
       "      <td>Monteils</td>\n",
       "    </tr>\n",
       "  </tbody>\n",
       "</table>\n",
       "</div>"
      ],
      "text/plain": [
       "          X          Y                     type                          name   \n",
       "0  5.417549  43.258701                  butcher  La Grande Boucherie du Cabot  \\\n",
       "1  1.770800  44.397664              hairdresser                         Siz-O   \n",
       "2  2.898969  42.691713  educational_institution                          CRAF   \n",
       "3  4.389882  44.618075            travel_agency              Ailleurs Voyages   \n",
       "4  1.995702  44.266530                   bakery        Boulangerie Patisserie   \n",
       "\n",
       "  address com_insee            com_nom  \n",
       "0     NaN     13055          Marseille  \n",
       "1     NaN     46173  Limogne-en-Quercy  \n",
       "2     NaN     66136          Perpignan  \n",
       "3     NaN     07019            Aubenas  \n",
       "4     D47     12150           Monteils  "
      ]
     },
     "execution_count": 4,
     "metadata": {},
     "output_type": "execute_result"
    }
   ],
   "source": [
    "df.drop(labels=[ 'osm_id', 'brand', 'operator', 'wheelchair',\n",
    "       'opening_hours', 'level', 'siret', 'profession_ref', 'wikidata',\n",
    "       'website', 'phone', 'email', 'facebook', 'last_update'], axis=1, inplace=True)\n",
    "\n",
    "df.head()"
   ]
  },
  {
   "cell_type": "code",
   "execution_count": 5,
   "id": "d5e80e88",
   "metadata": {},
   "outputs": [
    {
     "data": {
      "text/html": [
       "<div>\n",
       "<style scoped>\n",
       "    .dataframe tbody tr th:only-of-type {\n",
       "        vertical-align: middle;\n",
       "    }\n",
       "\n",
       "    .dataframe tbody tr th {\n",
       "        vertical-align: top;\n",
       "    }\n",
       "\n",
       "    .dataframe thead th {\n",
       "        text-align: right;\n",
       "    }\n",
       "</style>\n",
       "<table border=\"1\" class=\"dataframe\">\n",
       "  <thead>\n",
       "    <tr style=\"text-align: right;\">\n",
       "      <th></th>\n",
       "      <th>X</th>\n",
       "      <th>Y</th>\n",
       "      <th>type</th>\n",
       "      <th>name</th>\n",
       "      <th>address</th>\n",
       "      <th>com_insee</th>\n",
       "      <th>com_nom</th>\n",
       "    </tr>\n",
       "  </thead>\n",
       "  <tbody>\n",
       "    <tr>\n",
       "      <th>46137</th>\n",
       "      <td>2.435097</td>\n",
       "      <td>48.846746</td>\n",
       "      <td>tattoo</td>\n",
       "      <td>Body Staff</td>\n",
       "      <td>NaN</td>\n",
       "      <td>94080</td>\n",
       "      <td>Vincennes</td>\n",
       "    </tr>\n",
       "    <tr>\n",
       "      <th>46317</th>\n",
       "      <td>2.434544</td>\n",
       "      <td>48.848001</td>\n",
       "      <td>restaurant</td>\n",
       "      <td>La Planch'A Pizza</td>\n",
       "      <td>23 Rue de Montreuil</td>\n",
       "      <td>94080</td>\n",
       "      <td>Vincennes</td>\n",
       "    </tr>\n",
       "    <tr>\n",
       "      <th>46377</th>\n",
       "      <td>2.429727</td>\n",
       "      <td>48.845552</td>\n",
       "      <td>insurance</td>\n",
       "      <td>MMA</td>\n",
       "      <td>NaN</td>\n",
       "      <td>94080</td>\n",
       "      <td>Vincennes</td>\n",
       "    </tr>\n",
       "    <tr>\n",
       "      <th>46467</th>\n",
       "      <td>2.504156</td>\n",
       "      <td>48.842513</td>\n",
       "      <td>beauty</td>\n",
       "      <td>Institut turquoise</td>\n",
       "      <td>133 Avenue du Général de Gaulle</td>\n",
       "      <td>94058</td>\n",
       "      <td>Le Perreux-sur-Marne</td>\n",
       "    </tr>\n",
       "    <tr>\n",
       "      <th>46493</th>\n",
       "      <td>2.443327</td>\n",
       "      <td>48.808661</td>\n",
       "      <td>estate_agent</td>\n",
       "      <td>Net Immo 2000</td>\n",
       "      <td>NaN</td>\n",
       "      <td>94046</td>\n",
       "      <td>Maisons-Alfort</td>\n",
       "    </tr>\n",
       "  </tbody>\n",
       "</table>\n",
       "</div>"
      ],
      "text/plain": [
       "              X          Y          type                name   \n",
       "46137  2.435097  48.846746        tattoo          Body Staff  \\\n",
       "46317  2.434544  48.848001    restaurant   La Planch'A Pizza   \n",
       "46377  2.429727  48.845552     insurance                 MMA   \n",
       "46467  2.504156  48.842513        beauty  Institut turquoise   \n",
       "46493  2.443327  48.808661  estate_agent       Net Immo 2000   \n",
       "\n",
       "                               address com_insee               com_nom  \n",
       "46137                              NaN     94080             Vincennes  \n",
       "46317              23 Rue de Montreuil     94080             Vincennes  \n",
       "46377                              NaN     94080             Vincennes  \n",
       "46467  133 Avenue du Général de Gaulle     94058  Le Perreux-sur-Marne  \n",
       "46493                              NaN     94046        Maisons-Alfort  "
      ]
     },
     "execution_count": 5,
     "metadata": {},
     "output_type": "execute_result"
    }
   ],
   "source": [
    "df = df[ df.com_insee.str[:2] == \"94\" ]\n",
    "df.head()"
   ]
  },
  {
   "cell_type": "code",
   "execution_count": 6,
   "id": "581a6788",
   "metadata": {},
   "outputs": [
    {
     "data": {
      "text/plain": [
       "array(['94002', '94004', '94011', '94019', '94028', '94060', '94059',\n",
       "       '94044', '94047', '94048', '94053', '94055', '94056', '94070',\n",
       "       '94071', '94075'], dtype=object)"
      ]
     },
     "execution_count": 6,
     "metadata": {},
     "output_type": "execute_result"
    }
   ],
   "source": [
    "import geopandas\n",
    "geo = geopandas.read_file(\".\\\\DONNEES\\\\lim_admin.geojson\")\n",
    "\n",
    "geo.code_insee_commune = geo.code_insee_commune.astype(str)\n",
    "\n",
    "geo.dtypes\n",
    "\n",
    "code_insee = geo.code_insee_commune.unique()\n",
    "\n",
    "code_insee"
   ]
  },
  {
   "cell_type": "code",
   "execution_count": 7,
   "id": "ec5caae7",
   "metadata": {},
   "outputs": [
    {
     "name": "stdout",
     "output_type": "stream",
     "text": [
      "<class 'pandas.core.frame.DataFrame'>\n",
      "Index: 1288 entries, 46694 to 592310\n",
      "Data columns (total 7 columns):\n",
      " #   Column     Non-Null Count  Dtype  \n",
      "---  ------     --------------  -----  \n",
      " 0   X          1288 non-null   float64\n",
      " 1   Y          1288 non-null   float64\n",
      " 2   type       1288 non-null   object \n",
      " 3   name       1104 non-null   object \n",
      " 4   address    306 non-null    object \n",
      " 5   com_insee  1288 non-null   object \n",
      " 6   com_nom    1288 non-null   object \n",
      "dtypes: float64(2), object(5)\n",
      "memory usage: 80.5+ KB\n"
     ]
    }
   ],
   "source": [
    "df = df[ df.com_insee.isin(code_insee) ]\n",
    "df.info()"
   ]
  },
  {
   "cell_type": "code",
   "execution_count": 8,
   "id": "298a166c",
   "metadata": {},
   "outputs": [
    {
     "data": {
      "text/html": [
       "<div>\n",
       "<style scoped>\n",
       "    .dataframe tbody tr th:only-of-type {\n",
       "        vertical-align: middle;\n",
       "    }\n",
       "\n",
       "    .dataframe tbody tr th {\n",
       "        vertical-align: top;\n",
       "    }\n",
       "\n",
       "    .dataframe thead th {\n",
       "        text-align: right;\n",
       "    }\n",
       "</style>\n",
       "<table border=\"1\" class=\"dataframe\">\n",
       "  <thead>\n",
       "    <tr style=\"text-align: right;\">\n",
       "      <th></th>\n",
       "      <th>X</th>\n",
       "      <th>Y</th>\n",
       "      <th>type</th>\n",
       "      <th>name</th>\n",
       "      <th>address</th>\n",
       "      <th>com_insee</th>\n",
       "      <th>com_nom</th>\n",
       "      <th>geometry</th>\n",
       "    </tr>\n",
       "  </thead>\n",
       "  <tbody>\n",
       "    <tr>\n",
       "      <th>46694</th>\n",
       "      <td>2.488027</td>\n",
       "      <td>48.751144</td>\n",
       "      <td>pharmacy</td>\n",
       "      <td>Pharmacie Cholay Colteau</td>\n",
       "      <td>NaN</td>\n",
       "      <td>94044</td>\n",
       "      <td>Limeil-Brévannes</td>\n",
       "      <td>POINT (2.4880268 48.7511444997541)</td>\n",
       "    </tr>\n",
       "    <tr>\n",
       "      <th>47084</th>\n",
       "      <td>2.577031</td>\n",
       "      <td>48.780026</td>\n",
       "      <td>fireplace</td>\n",
       "      <td>Cheminées Philippe</td>\n",
       "      <td>NaN</td>\n",
       "      <td>94060</td>\n",
       "      <td>La Queue-en-Brie</td>\n",
       "      <td>POINT (2.5770313 48.7800263997469)</td>\n",
       "    </tr>\n",
       "    <tr>\n",
       "      <th>47315</th>\n",
       "      <td>2.480708</td>\n",
       "      <td>48.775668</td>\n",
       "      <td>insurance</td>\n",
       "      <td>MAAF</td>\n",
       "      <td>NaN</td>\n",
       "      <td>94011</td>\n",
       "      <td>Bonneuil-sur-Marne</td>\n",
       "      <td>POINT (2.4807076 48.775668299748)</td>\n",
       "    </tr>\n",
       "    <tr>\n",
       "      <th>47591</th>\n",
       "      <td>2.453505</td>\n",
       "      <td>48.783373</td>\n",
       "      <td>hairdresser</td>\n",
       "      <td>JELENA Coiffure</td>\n",
       "      <td>7 Rue du Général de Larminat</td>\n",
       "      <td>94028</td>\n",
       "      <td>Créteil</td>\n",
       "      <td>POINT (2.4535052 48.7833727997461)</td>\n",
       "    </tr>\n",
       "    <tr>\n",
       "      <th>47686</th>\n",
       "      <td>2.541487</td>\n",
       "      <td>48.786466</td>\n",
       "      <td>post_office</td>\n",
       "      <td>Ormesson-sur-Marne</td>\n",
       "      <td>NaN</td>\n",
       "      <td>94055</td>\n",
       "      <td>Ormesson-sur-Marne</td>\n",
       "      <td>POINT (2.5414872 48.7864664997453)</td>\n",
       "    </tr>\n",
       "  </tbody>\n",
       "</table>\n",
       "</div>"
      ],
      "text/plain": [
       "              X          Y         type                      name   \n",
       "46694  2.488027  48.751144     pharmacy  Pharmacie Cholay Colteau  \\\n",
       "47084  2.577031  48.780026    fireplace        Cheminées Philippe   \n",
       "47315  2.480708  48.775668    insurance                      MAAF   \n",
       "47591  2.453505  48.783373  hairdresser           JELENA Coiffure   \n",
       "47686  2.541487  48.786466  post_office        Ormesson-sur-Marne   \n",
       "\n",
       "                            address com_insee             com_nom   \n",
       "46694                           NaN     94044    Limeil-Brévannes  \\\n",
       "47084                           NaN     94060    La Queue-en-Brie   \n",
       "47315                           NaN     94011  Bonneuil-sur-Marne   \n",
       "47591  7 Rue du Général de Larminat     94028             Créteil   \n",
       "47686                           NaN     94055  Ormesson-sur-Marne   \n",
       "\n",
       "                                 geometry  \n",
       "46694  POINT (2.4880268 48.7511444997541)  \n",
       "47084  POINT (2.5770313 48.7800263997469)  \n",
       "47315   POINT (2.4807076 48.775668299748)  \n",
       "47591  POINT (2.4535052 48.7833727997461)  \n",
       "47686  POINT (2.5414872 48.7864664997453)  "
      ]
     },
     "execution_count": 8,
     "metadata": {},
     "output_type": "execute_result"
    }
   ],
   "source": [
    "import shapely\n",
    "\n",
    "def Create_Point_FromXY(r) :\n",
    "    p = shapely.Point(r[\"X\"], r[\"Y\"])\n",
    "    return p\n",
    "\n",
    "df[\"geometry\"] = df.apply(func=Create_Point_FromXY, axis=1)\n",
    "df.head()"
   ]
  },
  {
   "cell_type": "code",
   "execution_count": 9,
   "id": "7829539f",
   "metadata": {},
   "outputs": [
    {
     "data": {
      "text/plain": [
       "<Geographic 2D CRS: EPSG:4326>\n",
       "Name: WGS 84\n",
       "Axis Info [ellipsoidal]:\n",
       "- Lat[north]: Geodetic latitude (degree)\n",
       "- Lon[east]: Geodetic longitude (degree)\n",
       "Area of Use:\n",
       "- name: World.\n",
       "- bounds: (-180.0, -90.0, 180.0, 90.0)\n",
       "Datum: World Geodetic System 1984 ensemble\n",
       "- Ellipsoid: WGS 84\n",
       "- Prime Meridian: Greenwich"
      ]
     },
     "execution_count": 9,
     "metadata": {},
     "output_type": "execute_result"
    }
   ],
   "source": [
    "gdf = geopandas.GeoDataFrame(data=df, geometry=\"geometry\", crs=4326)\n",
    "gdf.crs"
   ]
  },
  {
   "cell_type": "markdown",
   "id": "307af338",
   "metadata": {},
   "source": [
    "<ul>Choix du type de magasin à conserver\n",
    "    <li>On commence par lister l'ensemble des commerces présents dans la base filtrée sur GPSEA.</li>\n",
    "    <li>Ensuite, on va compter le nombre d'occurence et ensuite, choisir là où il y a le plus de magasins.</li>\n",
    "</ul>"
   ]
  },
  {
   "cell_type": "code",
   "execution_count": 10,
   "id": "29e315ab",
   "metadata": {},
   "outputs": [
    {
     "data": {
      "text/plain": [
       "array(['pharmacy', 'fireplace', 'insurance', 'hairdresser', 'post_office',\n",
       "       'greengrocer', 'cafe', 'bakery', 'fast_food', 'estate_agent',\n",
       "       'supermarket', 'restaurant', 'clothes', 'beauty', 'bar', 'shoes',\n",
       "       'kitchen', 'car', 'frozen_food', 'massage', 'bank', 'shoemaker',\n",
       "       'fuel', 'carpenter', 'dry_cleaning', 'paint', 'window_blind',\n",
       "       'laundry', 'tailor', 'optician', 'ticket', 'car_repair',\n",
       "       'computer', 'butcher', 'newsagent', 'cinema', 'mall', 'jewelry',\n",
       "       'convenience', 'driving_school', 'electronics', 'motorcycle',\n",
       "       'doityourself', 'wine', 'florist', 'deli', 'sports',\n",
       "       'medical_supply', 'yes', 'car_rental', 'seafood', 'mobile_phone',\n",
       "       'employment_agency', 'tyres', 'hearing_aids', 'cleaning',\n",
       "       'dressmaker', 'variety_store', 'car_wash', 'vehicle_inspection',\n",
       "       'furniture', 'locksmith', 'tool_hire', 'pawnbroker', 'brewery',\n",
       "       'car_parts', 'cosmetics', 'bicycle', 'storage_rental',\n",
       "       'e-cigarette', 'bed', 'pet', 'dairy', 'pet_grooming', 'lighting',\n",
       "       'garden_centre', 'second_hand', 'chocolate', 'caterer',\n",
       "       'internet_cafe', 'books', 'funeral_directors', 'travel_agency',\n",
       "       'tattoo', 'toys', 'interior_decoration', 'reception_desk', 'hifi',\n",
       "       'hardware', 'fabric', 'nightclub', 'stationery', 'photo', 'pub',\n",
       "       'alcohol', 'fashion', 'cheese', 'tobacco', 'pastry',\n",
       "       'confectionery', 'glaziery', 'coffee', 'perfumery', 'parking',\n",
       "       'kiosk', 'plumber', 'food_court', 'pottery', 'moving_company',\n",
       "       'gift', 'clockmaker', 'photographer'], dtype=object)"
      ]
     },
     "execution_count": 10,
     "metadata": {},
     "output_type": "execute_result"
    }
   ],
   "source": [
    "gdf[\"type\"].unique()"
   ]
  },
  {
   "cell_type": "code",
   "execution_count": 11,
   "id": "afc5794c",
   "metadata": {},
   "outputs": [],
   "source": [
    "a = [ 'pharmacy', 'cafe', 'bakery', 'fast_food',\n",
    "     'supermarket', 'restaurant', 'bar', 'cinema', \n",
    "     'mall', 'sports', 'medical_supply', \n",
    "     'variety_store', 'internet_cafe', 'books' ] ## liste des équipements à conserver"
   ]
  },
  {
   "cell_type": "code",
   "execution_count": 12,
   "id": "d98b59b5",
   "metadata": {},
   "outputs": [],
   "source": [
    "gdf = gdf[ gdf[\"type\"].isin(a) ]"
   ]
  },
  {
   "cell_type": "code",
   "execution_count": 13,
   "id": "b29776f0",
   "metadata": {},
   "outputs": [],
   "source": [
    "gdf.to_csv(\".\\\\TRAITEMENT\\\\commerces_dans_gpsea.csv\", encoding=\"utf-8\", sep=\";\", decimal=\".\", index=None)"
   ]
  },
  {
   "cell_type": "code",
   "execution_count": 14,
   "id": "31ccf802",
   "metadata": {},
   "outputs": [
    {
     "data": {
      "image/png": "[encoded data removed]",
      "text/plain": [
       "<Figure size 1800x600 with 1 Axes>"
      ]
     },
     "metadata": {},
     "output_type": "display_data"
    }
   ],
   "source": [
    "import matplotlib.pyplot as plt\n",
    "\n",
    "fig, ax = plt.subplots(figsize=(30,10), dpi=60)\n",
    "counts = gdf['type'].value_counts()\n",
    "plt.bar(counts.index, counts.values, color='green')\n",
    "plt.title('Nombre de commerces par type, dans GPSEA', fontsize=30)\n",
    "plt.xlabel('Types de magasin')\n",
    "plt.ylabel('Nombre')\n",
    "plt.show()"
   ]
  },
  {
   "cell_type": "code",
   "execution_count": null,
   "id": "e62a1494",
   "metadata": {},
   "outputs": [],
   "source": []
  }
 ],
 "metadata": {
  "kernelspec": {
   "display_name": "Python 3 (ipykernel)",
   "language": "python",
   "name": "python3"
  },
  "language_info": {
   "codemirror_mode": {
    "name": "ipython",
    "version": 3
   },
   "file_extension": ".py",
   "mimetype": "text/x-python",
   "name": "python",
   "nbconvert_exporter": "python",
   "pygments_lexer": "ipython3",
   "version": "3.10.11"
  }
 },
 "nbformat": 4,
 "nbformat_minor": 5
}
