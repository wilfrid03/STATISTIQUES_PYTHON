{
 "cells": [
  {
   "cell_type": "markdown",
   "metadata": {},
   "source": [
    "<h1 style=\"border:1px solid white; padding:5px; text-align:center; \">Analyse des revenus sur le territoire de GPSEA en 2019</h1>\n",
    "\n",
    "<h2 style=\"border:1px solid green;\">Objectifs</h2>\n",
    "<ul>\n",
    "    <li>Faire une analyse de l'autocorrélation spatiale globale</li>\n",
    "    <li>Calculer l'autocorrélation spatiale locale</li>\n",
    "</ul>\n",
    "\n",
    "<h2 style=\"border:1px solid green;\">Préparation des données</h2>"
   ]
  },
  {
   "cell_type": "code",
   "execution_count": 1,
   "metadata": {},
   "outputs": [
    {
     "data": {
      "text/html": [
       "<div>\n",
       "<style scoped>\n",
       "    .dataframe tbody tr th:only-of-type {\n",
       "        vertical-align: middle;\n",
       "    }\n",
       "\n",
       "    .dataframe tbody tr th {\n",
       "        vertical-align: top;\n",
       "    }\n",
       "\n",
       "    .dataframe thead th {\n",
       "        text-align: right;\n",
       "    }\n",
       "</style>\n",
       "<table border=\"1\" class=\"dataframe\">\n",
       "  <thead>\n",
       "    <tr style=\"text-align: right;\">\n",
       "      <th></th>\n",
       "      <th>IRIS</th>\n",
       "      <th>DISP_MED19</th>\n",
       "    </tr>\n",
       "  </thead>\n",
       "  <tbody>\n",
       "    <tr>\n",
       "      <th>0</th>\n",
       "      <td>10040101</td>\n",
       "      <td>19400</td>\n",
       "    </tr>\n",
       "    <tr>\n",
       "      <th>1</th>\n",
       "      <td>10040102</td>\n",
       "      <td>17490</td>\n",
       "    </tr>\n",
       "    <tr>\n",
       "      <th>2</th>\n",
       "      <td>10040201</td>\n",
       "      <td>19670</td>\n",
       "    </tr>\n",
       "    <tr>\n",
       "      <th>3</th>\n",
       "      <td>10040202</td>\n",
       "      <td>24310</td>\n",
       "    </tr>\n",
       "    <tr>\n",
       "      <th>4</th>\n",
       "      <td>10330102</td>\n",
       "      <td>20050</td>\n",
       "    </tr>\n",
       "  </tbody>\n",
       "</table>\n",
       "</div>"
      ],
      "text/plain": [
       "       IRIS  DISP_MED19\n",
       "0  10040101       19400\n",
       "1  10040102       17490\n",
       "2  10040201       19670\n",
       "3  10040202       24310\n",
       "4  10330102       20050"
      ]
     },
     "execution_count": 1,
     "metadata": {},
     "output_type": "execute_result"
    }
   ],
   "source": [
    "import pandas \n",
    "\n",
    "## revenus en 2019 France entière\n",
    "revenus19 = pandas.read_csv(\".\\\\DONNEES\\\\BASE_TD_FILO_DISP_IRIS_2019.csv\", sep=\";\", decimal=\".\",\n",
    "    dtype={\"IRIS\":str}, encoding=\"utf-8\")\n",
    "\n",
    "revenus19 = revenus19[ [\"IRIS\", \"DISP_MED19\"] ]\n",
    "\n",
    "revenus19.head()"
   ]
  },
  {
   "cell_type": "code",
   "execution_count": 2,
   "metadata": {},
   "outputs": [
    {
     "data": {
      "text/plain": [
       "nom_de_la_commune       object\n",
       "code_insee_commune      object\n",
       "population               int64\n",
       "geometry              geometry\n",
       "dtype: object"
      ]
     },
     "execution_count": 2,
     "metadata": {},
     "output_type": "execute_result"
    }
   ],
   "source": [
    "## Ensuite, on va récupérer les IRIS :\n",
    "import geopandas\n",
    "## Couche des communes de GPSEA\n",
    "gpsea_com = geopandas.read_file(\".\\\\DONNEES\\\\contours_gpsea.geojson\", geometry=\"geometry\",\n",
    "                                dtype={\"code_insee_commune\":str}, encoding=\"latin1\")\n",
    "\n",
    "## La donnée est issue du catalogue de données du Grand Paris Sud Est Avenir \n",
    "gpsea_com = gpsea_com[ [\"nom_de_la_commune\", \"code_insee_commune\", \"population\", \"geometry\"] ]\n",
    "## respectivement : nom de la commune, code INSEE de la commune, taille de la population, géometrie de la commune\n",
    "gpsea_com.head()\n",
    "\n",
    "gpsea_com.crs ## 4326\n",
    "\n",
    "gpsea_com[\"code_insee_commune\"] = gpsea_com[\"code_insee_commune\"].astype(str)\n",
    "gpsea_com.dtypes"
   ]
  },
  {
   "cell_type": "code",
   "execution_count": 4,
   "metadata": {},
   "outputs": [
    {
     "ename": "ProjError",
     "evalue": "x, y, z, and time must be same size",
     "output_type": "error",
     "traceback": [
      "\u001b[1;31m---------------------------------------------------------------------------\u001b[0m",
      "\u001b[1;31mProjError\u001b[0m                                 Traceback (most recent call last)",
      "Cell \u001b[1;32mIn [4], line 2\u001b[0m\n\u001b[0;32m      1\u001b[0m \u001b[38;5;66;03m## Couche des IRIS France entière\u001b[39;00m\n\u001b[1;32m----> 2\u001b[0m iris_gpsea \u001b[38;5;241m=\u001b[39m geopandas\u001b[38;5;241m.\u001b[39mread_file(\u001b[38;5;124m\"\u001b[39m\u001b[38;5;124m.\u001b[39m\u001b[38;5;130;01m\\\\\u001b[39;00m\u001b[38;5;124mDONNEES\u001b[39m\u001b[38;5;130;01m\\\\\u001b[39;00m\u001b[38;5;124mIRIS_GE.SHP\u001b[39m\u001b[38;5;124m\"\u001b[39m, geometry\u001b[38;5;241m=\u001b[39m\u001b[38;5;124m\"\u001b[39m\u001b[38;5;124mgeometry\u001b[39m\u001b[38;5;124m\"\u001b[39m,\n\u001b[0;32m      3\u001b[0m                                  dtype\u001b[38;5;241m=\u001b[39m{\u001b[38;5;124m\"\u001b[39m\u001b[38;5;124mINSEE_COM\u001b[39m\u001b[38;5;124m\"\u001b[39m:\u001b[38;5;28mstr\u001b[39m, \u001b[38;5;124m\"\u001b[39m\u001b[38;5;124mCODE_IRIS\u001b[39m\u001b[38;5;124m\"\u001b[39m:\u001b[38;5;28mstr\u001b[39m}, crs\u001b[38;5;241m=\u001b[39m\u001b[38;5;124m\"\u001b[39m\u001b[38;5;124mEPSG:3949\u001b[39m\u001b[38;5;124m\"\u001b[39m)\u001b[38;5;241m.\u001b[39mto_crs(epsg\u001b[38;5;241m=\u001b[39m\u001b[38;5;241m3857\u001b[39m)\n\u001b[0;32m      5\u001b[0m \u001b[38;5;66;03m## conserver uniquement les IRIS de GPSEA\u001b[39;00m\n\u001b[0;32m      6\u001b[0m iris_gpsea \u001b[38;5;241m=\u001b[39m iris_gpsea[ iris_gpsea[\u001b[38;5;124m\"\u001b[39m\u001b[38;5;124mINSEE_COM\u001b[39m\u001b[38;5;124m\"\u001b[39m]\u001b[38;5;241m.\u001b[39misin(\u001b[38;5;28mlist\u001b[39m(gpsea_com\u001b[38;5;241m.\u001b[39mcode_insee_commune\u001b[38;5;241m.\u001b[39munique())) ]\n",
      "File \u001b[1;32m~\\anaconda3\\envs\\analyse_spatiale_python\\lib\\site-packages\\geopandas\\geodataframe.py:1364\u001b[0m, in \u001b[0;36mGeoDataFrame.to_crs\u001b[1;34m(self, crs, epsg, inplace)\u001b[0m\n\u001b[0;32m   1362\u001b[0m \u001b[38;5;28;01melse\u001b[39;00m:\n\u001b[0;32m   1363\u001b[0m     df \u001b[38;5;241m=\u001b[39m \u001b[38;5;28mself\u001b[39m\u001b[38;5;241m.\u001b[39mcopy()\n\u001b[1;32m-> 1364\u001b[0m geom \u001b[38;5;241m=\u001b[39m \u001b[43mdf\u001b[49m\u001b[38;5;241;43m.\u001b[39;49m\u001b[43mgeometry\u001b[49m\u001b[38;5;241;43m.\u001b[39;49m\u001b[43mto_crs\u001b[49m\u001b[43m(\u001b[49m\u001b[43mcrs\u001b[49m\u001b[38;5;241;43m=\u001b[39;49m\u001b[43mcrs\u001b[49m\u001b[43m,\u001b[49m\u001b[43m \u001b[49m\u001b[43mepsg\u001b[49m\u001b[38;5;241;43m=\u001b[39;49m\u001b[43mepsg\u001b[49m\u001b[43m)\u001b[49m\n\u001b[0;32m   1365\u001b[0m df\u001b[38;5;241m.\u001b[39mgeometry \u001b[38;5;241m=\u001b[39m geom\n\u001b[0;32m   1366\u001b[0m \u001b[38;5;28;01mif\u001b[39;00m \u001b[38;5;129;01mnot\u001b[39;00m inplace:\n",
      "File \u001b[1;32m~\\anaconda3\\envs\\analyse_spatiale_python\\lib\\site-packages\\geopandas\\geoseries.py:1124\u001b[0m, in \u001b[0;36mGeoSeries.to_crs\u001b[1;34m(self, crs, epsg)\u001b[0m\n\u001b[0;32m   1047\u001b[0m \u001b[38;5;28;01mdef\u001b[39;00m \u001b[38;5;21mto_crs\u001b[39m(\u001b[38;5;28mself\u001b[39m, crs\u001b[38;5;241m=\u001b[39m\u001b[38;5;28;01mNone\u001b[39;00m, epsg\u001b[38;5;241m=\u001b[39m\u001b[38;5;28;01mNone\u001b[39;00m):\n\u001b[0;32m   1048\u001b[0m     \u001b[38;5;124;03m\"\"\"Returns a ``GeoSeries`` with all geometries transformed to a new\u001b[39;00m\n\u001b[0;32m   1049\u001b[0m \u001b[38;5;124;03m    coordinate reference system.\u001b[39;00m\n\u001b[0;32m   1050\u001b[0m \n\u001b[1;32m   (...)\u001b[0m\n\u001b[0;32m   1121\u001b[0m \n\u001b[0;32m   1122\u001b[0m \u001b[38;5;124;03m    \"\"\"\u001b[39;00m\n\u001b[0;32m   1123\u001b[0m     \u001b[38;5;28;01mreturn\u001b[39;00m GeoSeries(\n\u001b[1;32m-> 1124\u001b[0m         \u001b[38;5;28;43mself\u001b[39;49m\u001b[38;5;241;43m.\u001b[39;49m\u001b[43mvalues\u001b[49m\u001b[38;5;241;43m.\u001b[39;49m\u001b[43mto_crs\u001b[49m\u001b[43m(\u001b[49m\u001b[43mcrs\u001b[49m\u001b[38;5;241;43m=\u001b[39;49m\u001b[43mcrs\u001b[49m\u001b[43m,\u001b[49m\u001b[43m \u001b[49m\u001b[43mepsg\u001b[49m\u001b[38;5;241;43m=\u001b[39;49m\u001b[43mepsg\u001b[49m\u001b[43m)\u001b[49m, index\u001b[38;5;241m=\u001b[39m\u001b[38;5;28mself\u001b[39m\u001b[38;5;241m.\u001b[39mindex, name\u001b[38;5;241m=\u001b[39m\u001b[38;5;28mself\u001b[39m\u001b[38;5;241m.\u001b[39mname\n\u001b[0;32m   1125\u001b[0m     )\n",
      "File \u001b[1;32m~\\anaconda3\\envs\\analyse_spatiale_python\\lib\\site-packages\\geopandas\\array.py:779\u001b[0m, in \u001b[0;36mGeometryArray.to_crs\u001b[1;34m(self, crs, epsg)\u001b[0m\n\u001b[0;32m    775\u001b[0m     \u001b[38;5;28;01mreturn\u001b[39;00m \u001b[38;5;28mself\u001b[39m\n\u001b[0;32m    777\u001b[0m transformer \u001b[38;5;241m=\u001b[39m Transformer\u001b[38;5;241m.\u001b[39mfrom_crs(\u001b[38;5;28mself\u001b[39m\u001b[38;5;241m.\u001b[39mcrs, crs, always_xy\u001b[38;5;241m=\u001b[39m\u001b[38;5;28;01mTrue\u001b[39;00m)\n\u001b[1;32m--> 779\u001b[0m new_data \u001b[38;5;241m=\u001b[39m \u001b[43mvectorized\u001b[49m\u001b[38;5;241;43m.\u001b[39;49m\u001b[43mtransform\u001b[49m\u001b[43m(\u001b[49m\u001b[38;5;28;43mself\u001b[39;49m\u001b[38;5;241;43m.\u001b[39;49m\u001b[43mdata\u001b[49m\u001b[43m,\u001b[49m\u001b[43m \u001b[49m\u001b[43mtransformer\u001b[49m\u001b[38;5;241;43m.\u001b[39;49m\u001b[43mtransform\u001b[49m\u001b[43m)\u001b[49m\n\u001b[0;32m    780\u001b[0m \u001b[38;5;28;01mreturn\u001b[39;00m GeometryArray(new_data, crs\u001b[38;5;241m=\u001b[39mcrs)\n",
      "File \u001b[1;32m~\\anaconda3\\envs\\analyse_spatiale_python\\lib\\site-packages\\geopandas\\_vectorized.py:1114\u001b[0m, in \u001b[0;36mtransform\u001b[1;34m(data, func)\u001b[0m\n\u001b[0;32m   1111\u001b[0m result[\u001b[38;5;241m~\u001b[39mhas_z] \u001b[38;5;241m=\u001b[39m set_coordinates(data[\u001b[38;5;241m~\u001b[39mhas_z]\u001b[38;5;241m.\u001b[39mcopy(), np\u001b[38;5;241m.\u001b[39marray(new_coords_z)\u001b[38;5;241m.\u001b[39mT)\n\u001b[0;32m   1113\u001b[0m coords_z \u001b[38;5;241m=\u001b[39m get_coordinates(data[has_z], include_z\u001b[38;5;241m=\u001b[39m\u001b[38;5;28;01mTrue\u001b[39;00m)\n\u001b[1;32m-> 1114\u001b[0m new_coords_z \u001b[38;5;241m=\u001b[39m \u001b[43mfunc\u001b[49m\u001b[43m(\u001b[49m\u001b[43mcoords_z\u001b[49m\u001b[43m[\u001b[49m\u001b[43m:\u001b[49m\u001b[43m,\u001b[49m\u001b[43m \u001b[49m\u001b[38;5;241;43m0\u001b[39;49m\u001b[43m]\u001b[49m\u001b[43m,\u001b[49m\u001b[43m \u001b[49m\u001b[43mcoords_z\u001b[49m\u001b[43m[\u001b[49m\u001b[43m:\u001b[49m\u001b[43m,\u001b[49m\u001b[43m \u001b[49m\u001b[38;5;241;43m1\u001b[39;49m\u001b[43m]\u001b[49m\u001b[43m,\u001b[49m\u001b[43m \u001b[49m\u001b[43mcoords_z\u001b[49m\u001b[43m[\u001b[49m\u001b[43m:\u001b[49m\u001b[43m,\u001b[49m\u001b[43m \u001b[49m\u001b[38;5;241;43m2\u001b[39;49m\u001b[43m]\u001b[49m\u001b[43m)\u001b[49m\n\u001b[0;32m   1115\u001b[0m result[has_z] \u001b[38;5;241m=\u001b[39m set_coordinates(data[has_z]\u001b[38;5;241m.\u001b[39mcopy(), np\u001b[38;5;241m.\u001b[39marray(new_coords_z)\u001b[38;5;241m.\u001b[39mT)\n\u001b[0;32m   1117\u001b[0m \u001b[38;5;28;01mreturn\u001b[39;00m result\n",
      "File \u001b[1;32m~\\anaconda3\\envs\\analyse_spatiale_python\\lib\\site-packages\\pyproj\\transformer.py:430\u001b[0m, in \u001b[0;36mTransformer.transform\u001b[1;34m(self, xx, yy, zz, tt, radians, errcheck, direction)\u001b[0m\n\u001b[0;32m    428\u001b[0m     intime \u001b[38;5;241m=\u001b[39m \u001b[38;5;28;01mNone\u001b[39;00m\n\u001b[0;32m    429\u001b[0m \u001b[38;5;66;03m# call pj_transform.  inx,iny,inz buffers modified in place.\u001b[39;00m\n\u001b[1;32m--> 430\u001b[0m \u001b[38;5;28;43mself\u001b[39;49m\u001b[38;5;241;43m.\u001b[39;49m\u001b[43m_transformer\u001b[49m\u001b[38;5;241;43m.\u001b[39;49m\u001b[43m_transform\u001b[49m\u001b[43m(\u001b[49m\n\u001b[0;32m    431\u001b[0m \u001b[43m    \u001b[49m\u001b[43minx\u001b[49m\u001b[43m,\u001b[49m\n\u001b[0;32m    432\u001b[0m \u001b[43m    \u001b[49m\u001b[43miny\u001b[49m\u001b[43m,\u001b[49m\n\u001b[0;32m    433\u001b[0m \u001b[43m    \u001b[49m\u001b[43minz\u001b[49m\u001b[38;5;241;43m=\u001b[39;49m\u001b[43minz\u001b[49m\u001b[43m,\u001b[49m\n\u001b[0;32m    434\u001b[0m \u001b[43m    \u001b[49m\u001b[43mintime\u001b[49m\u001b[38;5;241;43m=\u001b[39;49m\u001b[43mintime\u001b[49m\u001b[43m,\u001b[49m\n\u001b[0;32m    435\u001b[0m \u001b[43m    \u001b[49m\u001b[43mdirection\u001b[49m\u001b[38;5;241;43m=\u001b[39;49m\u001b[43mdirection\u001b[49m\u001b[43m,\u001b[49m\n\u001b[0;32m    436\u001b[0m \u001b[43m    \u001b[49m\u001b[43mradians\u001b[49m\u001b[38;5;241;43m=\u001b[39;49m\u001b[43mradians\u001b[49m\u001b[43m,\u001b[49m\n\u001b[0;32m    437\u001b[0m \u001b[43m    \u001b[49m\u001b[43merrcheck\u001b[49m\u001b[38;5;241;43m=\u001b[39;49m\u001b[43merrcheck\u001b[49m\u001b[43m,\u001b[49m\n\u001b[0;32m    438\u001b[0m \u001b[43m\u001b[49m\u001b[43m)\u001b[49m\n\u001b[0;32m    439\u001b[0m \u001b[38;5;66;03m# if inputs were lists, tuples or floats, convert back.\u001b[39;00m\n\u001b[0;32m    440\u001b[0m outx \u001b[38;5;241m=\u001b[39m _convertback(xisfloat, xislist, xistuple, inx)\n",
      "File \u001b[1;32mpyproj/_transformer.pyx:459\u001b[0m, in \u001b[0;36mpyproj._transformer._Transformer._transform\u001b[1;34m()\u001b[0m\n",
      "\u001b[1;31mProjError\u001b[0m: x, y, z, and time must be same size"
     ]
    }
   ],
   "source": [
    "## Couche des IRIS France entière\n",
    "iris_gpsea = geopandas.read_file(\".\\\\DONNEES\\\\IRIS_GE.SHP\", geometry=\"geometry\",\n",
    "                                 dtype={\"INSEE_COM\":str, \"CODE_IRIS\":str}, crs=\"EPSG:3949\").to_crs(epsg=3857)\n",
    "\n",
    "## conserver uniquement les IRIS de GPSEA\n",
    "iris_gpsea = iris_gpsea[ iris_gpsea[\"INSEE_COM\"].isin(list(gpsea_com.code_insee_commune.unique())) ]\n",
    "\n",
    "iris_gpsea.head()"
   ]
  },
  {
   "cell_type": "code",
   "execution_count": null,
   "metadata": {},
   "outputs": [],
   "source": [
    "revenus19 = revenus19[ revenus19[\"IRIS\"].isin( list(iris_gpsea.CODE_IRIS.unique()) ) ]\n",
    "revenus19.head()\n",
    "\n",
    "revenus19.isna().sum()"
   ]
  },
  {
   "cell_type": "markdown",
   "metadata": {},
   "source": [
    "<h2 id=\"geoviz\" style=\"border:1px solid green;\">Géovisualisation</h2>"
   ]
  },
  {
   "cell_type": "code",
   "execution_count": null,
   "metadata": {},
   "outputs": [],
   "source": [
    "# Graphics\n",
    "import matplotlib.pyplot as plt\n",
    "import seaborn\n",
    "\n",
    "# Analysis\n",
    "from numpy.random import seed"
   ]
  },
  {
   "cell_type": "code",
   "execution_count": null,
   "metadata": {},
   "outputs": [],
   "source": [
    "## joindre les données revenus dans les IRIS:\n",
    "\n",
    "db = pandas.merge(left=iris_gpsea, right=revenus19, left_on=\"CODE_IRIS\", right_on=\"IRIS\", how=\"left\")\n",
    "\n",
    "db.drop(columns=[\"IRIS_y\", \"IRIS_x\", \"TYP_IRIS\"], inplace=True)\n",
    "db.head()\n",
    "\n",
    "## S'assurer que les données sont en unité métrique :\n",
    "db.crs \n",
    "db = db.to_crs(3857)"
   ]
  },
  {
   "cell_type": "code",
   "execution_count": null,
   "metadata": {},
   "outputs": [],
   "source": [
    "seaborn.histplot(x=\"DISP_MED19\", data=db)\n",
    "plt.title(\"Distribution du revenu disponible dans les IRIS en 2019\")\n",
    "plt.show()"
   ]
  },
  {
   "cell_type": "code",
   "execution_count": null,
   "metadata": {},
   "outputs": [],
   "source": []
  },
  {
   "cell_type": "code",
   "execution_count": null,
   "metadata": {},
   "outputs": [],
   "source": [
    "## on a une distribution fortement asymétrique\n",
    "## on peut alors utiliser la méthode des quantiles :\n",
    "\n",
    "fig, ax = plt.subplots(figsize=(8, 8), dpi=80)\n",
    "\n",
    "iris_gpsea = iris_gpsea.to_crs(epsg=3857)\n",
    "\n",
    "iris_gpsea.plot(\n",
    "    color=\"grey\",\n",
    "    edgecolor=\"white\",\n",
    "    alpha=0.3,\n",
    "    legend=True,\n",
    "    ax=ax\n",
    ")\n",
    "\n",
    "## db[\"DISP_MED19\"].fillna(value=0, inplace=True)\n",
    "db.plot(\n",
    "    column=\"DISP_MED19\",\n",
    "    scheme=\"quantiles\",\n",
    "    cmap=\"viridis\",\n",
    "    edgecolor=\"white\",\n",
    "    k=5,\n",
    "    alpha=0.75,\n",
    "    legend=True,\n",
    "    ax=ax\n",
    ")\n",
    "\n",
    "plt.title(\"Distribution des revenus sur le territoire\", fontsize=20)\n",
    "ax.set_axis_off()\n",
    "plt.show()"
   ]
  },
  {
   "cell_type": "markdown",
   "metadata": {},
   "source": [
    "<p style=\"border:2px solid red; padding:5px;\"><span style=\"font-weight:bold;\">Interprétation : </span>Les IRIS grisés sont les IRIS pour lesquelles aucune donnée n'est fourni en 2019. Cela peut être dû au secret statistique, ou encore que la commune ne continent pas assez d'habitant pour former un IRIS mais est alors considérée comme une commune. Par exemple, l'IRIS grisé de Bonneuil-sur-Marne correspond au Port de Bonneuil, qui contient principalement des zones d'emploi. En raison de la distribution, nous avons réalisé une discrétisation en quantile. On peut voir que Créteil possède des IRIS très différents. D'autre part, on remarque comme un \"gradient\" entre l'Ouest et l'Est.</p>"
   ]
  },
  {
   "cell_type": "markdown",
   "metadata": {},
   "source": [
    "<h2 id=\"spatial_analysis\" style=\"border:1px solid green;\">Analyse spatiale</h2>"
   ]
  },
  {
   "cell_type": "code",
   "execution_count": null,
   "metadata": {},
   "outputs": [],
   "source": [
    "## charger les bibliothèques d'analyse spatiale :\n",
    "# Graphics\n",
    "import pysal\n",
    "from pysal.viz import splot\n",
    "from splot.esda import plot_moran\n",
    "\n",
    "# Analysis\n",
    "from pysal.explore import esda\n",
    "from pysal.lib import weights\n",
    "from numpy.random import seed"
   ]
  },
  {
   "cell_type": "markdown",
   "metadata": {},
   "source": [
    "Ensuite nous allons calculer le poids spatial, pour un voisinage de 5."
   ]
  },
  {
   "cell_type": "code",
   "execution_count": null,
   "metadata": {},
   "outputs": [],
   "source": [
    "## générer les poids depuis le df :\n",
    "w = weights.KNN.from_dataframe(db, k=8)\n",
    "## standardiser es résultats :\n",
    "# w.transform = \"R\""
   ]
  },
  {
   "cell_type": "code",
   "execution_count": null,
   "metadata": {},
   "outputs": [],
   "source": []
  },
  {
   "cell_type": "code",
   "execution_count": null,
   "metadata": {},
   "outputs": [],
   "source": []
  },
  {
   "cell_type": "code",
   "execution_count": null,
   "metadata": {},
   "outputs": [],
   "source": []
  },
  {
   "cell_type": "code",
   "execution_count": null,
   "metadata": {},
   "outputs": [],
   "source": []
  }
 ],
 "metadata": {
  "kernelspec": {
   "display_name": "Python 3 (ipykernel)",
   "language": "python",
   "name": "python3"
  },
  "language_info": {
   "codemirror_mode": {
    "name": "ipython",
    "version": 3
   },
   "file_extension": ".py",
   "mimetype": "text/x-python",
   "name": "python",
   "nbconvert_exporter": "python",
   "pygments_lexer": "ipython3",
   "version": "3.9.16"
  }
 },
 "nbformat": 4,
 "nbformat_minor": 2
}
