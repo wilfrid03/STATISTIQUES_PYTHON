{
 "cells": [
  {
   "cell_type": "markdown",
   "id": "dd6be3be",
   "metadata": {},
   "source": [
    "# Formation Statistical method for decisions making\n",
    "## Chapitre 2 : sampling\n",
    "Source : https://olympus.mygreatlearning.com/courses/10913/pages/agenda?resume=47"
   ]
  },
  {
   "cell_type": "markdown",
   "id": "8de03b2d",
   "metadata": {},
   "source": [
    "### Introduction\n",
    "On ne va pas faire nos calculs sur toutes les données. Parfois, elles sont trop grandes : on utilise un échantillon. Ensuite, on infère à la population totale les résultats de l'échantillon. Un échantillon doit être représentatif de la population dont il est issu. Quelles métriques utiliser pour vérifier la représentativité de cet échantillon par rapport à la population globale ?\n",
    "L0 on a deux types de statistiques : les statistiques descriptives (qui décrivent un échantillon) et les statistiques inférentielles (qui rapportent les résultats d'un échantilon à la population globale de laquelle est issu cet échantillon). Nous on se **concentre d'abord sur les statistiques descriptives**. Les statistiques descriptives permettent de faire émerger, lorsqu'il y en a, des **insights** qui permettent de prendre des décisions."
   ]
  },
  {
   "cell_type": "markdown",
   "id": "8351c974",
   "metadata": {},
   "source": [
    "### 1. Sampling\n",
    "Si on testait un nouveau produit, celui-ci serait caractérisé par trois features. Ces features sont mesurables par la population sur laquelle on le teste. Ces trois features sont alors trois métriques. Pour chaque métriques, on peut constuire une distribution propre.\n",
    "En fait, on peut avoit soit un échantillon issu d'une population globale, soit un échantilon, issu d'une enquête par exemple et qui doit être inférée à une population globale. Par exemple, si on souhaite vendre un nouveau produit dans un pays, on ne va pas enquêter tous le pays, mais une partie. Cette partie doit alors être représentative de l'ensemble du pays. Après avoir calculé la variance et d'autres indicateurs pour l'échantillon, on doit vérifier si les résultats sont valides pour une population plus grande. Dans ce cas, on a recours aux **statistiques inférentielles**. Celles-ci consistent une des tests d'hypothèses.\n",
    "\n",
    "La plupart du temps, on ne connaît pas les paramètres de la population globale. C'est là qu'intervient le **theorem central limit**."
   ]
  },
  {
   "cell_type": "code",
   "execution_count": null,
   "id": "e26760fd",
   "metadata": {},
   "outputs": [],
   "source": []
  },
  {
   "cell_type": "code",
   "execution_count": null,
   "id": "dc26e529",
   "metadata": {},
   "outputs": [],
   "source": []
  },
  {
   "cell_type": "code",
   "execution_count": null,
   "id": "9a6c395c",
   "metadata": {},
   "outputs": [],
   "source": []
  },
  {
   "cell_type": "code",
   "execution_count": null,
   "id": "b7b211f5",
   "metadata": {},
   "outputs": [],
   "source": []
  },
  {
   "cell_type": "code",
   "execution_count": null,
   "id": "a3af8756",
   "metadata": {},
   "outputs": [],
   "source": []
  },
  {
   "cell_type": "code",
   "execution_count": null,
   "id": "25dce4d0",
   "metadata": {},
   "outputs": [],
   "source": []
  },
  {
   "cell_type": "code",
   "execution_count": null,
   "id": "3c546613",
   "metadata": {},
   "outputs": [],
   "source": []
  },
  {
   "cell_type": "code",
   "execution_count": null,
   "id": "48b8fa5f",
   "metadata": {},
   "outputs": [],
   "source": []
  },
  {
   "cell_type": "code",
   "execution_count": null,
   "id": "c13ff2ae",
   "metadata": {},
   "outputs": [],
   "source": []
  },
  {
   "cell_type": "code",
   "execution_count": null,
   "id": "3d76bcb6",
   "metadata": {},
   "outputs": [],
   "source": []
  },
  {
   "cell_type": "code",
   "execution_count": null,
   "id": "2f933a52",
   "metadata": {},
   "outputs": [],
   "source": []
  },
  {
   "cell_type": "code",
   "execution_count": null,
   "id": "dc1a981b",
   "metadata": {},
   "outputs": [],
   "source": []
  }
 ],
 "metadata": {
  "kernelspec": {
   "display_name": "Python 3 (ipykernel)",
   "language": "python",
   "name": "python3"
  },
  "language_info": {
   "codemirror_mode": {
    "name": "ipython",
    "version": 3
   },
   "file_extension": ".py",
   "mimetype": "text/x-python",
   "name": "python",
   "nbconvert_exporter": "python",
   "pygments_lexer": "ipython3",
   "version": "3.9.15"
  }
 },
 "nbformat": 4,
 "nbformat_minor": 5
}
