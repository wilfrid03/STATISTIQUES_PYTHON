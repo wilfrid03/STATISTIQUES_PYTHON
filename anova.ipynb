{
 "cells": [
  {
   "cell_type": "markdown",
   "id": "4b8cd48e",
   "metadata": {},
   "source": [
    "# ANOVA \n",
    "source : https://www.reneshbedre.com/blog/anova.html\n",
    "\n",
    "## ONE WAY ANOVA"
   ]
  },
  {
   "cell_type": "code",
   "execution_count": 1,
   "id": "456bc177",
   "metadata": {},
   "outputs": [],
   "source": [
    "## manipuler les données\n",
    "import pandas"
   ]
  },
  {
   "cell_type": "code",
   "execution_count": 3,
   "id": "1b27b3ea",
   "metadata": {},
   "outputs": [
    {
     "data": {
      "text/html": [
       "<div>\n",
       "<style scoped>\n",
       "    .dataframe tbody tr th:only-of-type {\n",
       "        vertical-align: middle;\n",
       "    }\n",
       "\n",
       "    .dataframe tbody tr th {\n",
       "        vertical-align: top;\n",
       "    }\n",
       "\n",
       "    .dataframe thead th {\n",
       "        text-align: right;\n",
       "    }\n",
       "</style>\n",
       "<table border=\"1\" class=\"dataframe\">\n",
       "  <thead>\n",
       "    <tr style=\"text-align: right;\">\n",
       "      <th></th>\n",
       "      <th>A</th>\n",
       "      <th>B</th>\n",
       "      <th>C</th>\n",
       "      <th>D</th>\n",
       "    </tr>\n",
       "  </thead>\n",
       "  <tbody>\n",
       "    <tr>\n",
       "      <th>0</th>\n",
       "      <td>25</td>\n",
       "      <td>45</td>\n",
       "      <td>30</td>\n",
       "      <td>54</td>\n",
       "    </tr>\n",
       "    <tr>\n",
       "      <th>1</th>\n",
       "      <td>30</td>\n",
       "      <td>55</td>\n",
       "      <td>29</td>\n",
       "      <td>60</td>\n",
       "    </tr>\n",
       "    <tr>\n",
       "      <th>2</th>\n",
       "      <td>28</td>\n",
       "      <td>29</td>\n",
       "      <td>33</td>\n",
       "      <td>51</td>\n",
       "    </tr>\n",
       "    <tr>\n",
       "      <th>3</th>\n",
       "      <td>36</td>\n",
       "      <td>56</td>\n",
       "      <td>37</td>\n",
       "      <td>62</td>\n",
       "    </tr>\n",
       "    <tr>\n",
       "      <th>4</th>\n",
       "      <td>29</td>\n",
       "      <td>40</td>\n",
       "      <td>27</td>\n",
       "      <td>73</td>\n",
       "    </tr>\n",
       "  </tbody>\n",
       "</table>\n",
       "</div>"
      ],
      "text/plain": [
       "    A   B   C   D\n",
       "0  25  45  30  54\n",
       "1  30  55  29  60\n",
       "2  28  29  33  51\n",
       "3  36  56  37  62\n",
       "4  29  40  27  73"
      ]
     },
     "execution_count": 3,
     "metadata": {},
     "output_type": "execute_result"
    }
   ],
   "source": [
    "## données\n",
    "data = pandas.read_csv(\"https://reneshbedre.github.io/assets/posts/anova/onewayanova.txt\", sep=\"\\t\")\n",
    "data.head()"
   ]
  },
  {
   "cell_type": "code",
   "execution_count": 5,
   "id": "0b1cae96",
   "metadata": {},
   "outputs": [
    {
     "data": {
      "text/html": [
       "<div>\n",
       "<style scoped>\n",
       "    .dataframe tbody tr th:only-of-type {\n",
       "        vertical-align: middle;\n",
       "    }\n",
       "\n",
       "    .dataframe tbody tr th {\n",
       "        vertical-align: top;\n",
       "    }\n",
       "\n",
       "    .dataframe thead th {\n",
       "        text-align: right;\n",
       "    }\n",
       "</style>\n",
       "<table border=\"1\" class=\"dataframe\">\n",
       "  <thead>\n",
       "    <tr style=\"text-align: right;\">\n",
       "      <th></th>\n",
       "      <th>index</th>\n",
       "      <th>treatment</th>\n",
       "      <th>value</th>\n",
       "    </tr>\n",
       "  </thead>\n",
       "  <tbody>\n",
       "    <tr>\n",
       "      <th>0</th>\n",
       "      <td>0</td>\n",
       "      <td>A</td>\n",
       "      <td>25</td>\n",
       "    </tr>\n",
       "    <tr>\n",
       "      <th>1</th>\n",
       "      <td>1</td>\n",
       "      <td>A</td>\n",
       "      <td>30</td>\n",
       "    </tr>\n",
       "    <tr>\n",
       "      <th>2</th>\n",
       "      <td>2</td>\n",
       "      <td>A</td>\n",
       "      <td>28</td>\n",
       "    </tr>\n",
       "    <tr>\n",
       "      <th>3</th>\n",
       "      <td>3</td>\n",
       "      <td>A</td>\n",
       "      <td>36</td>\n",
       "    </tr>\n",
       "    <tr>\n",
       "      <th>4</th>\n",
       "      <td>4</td>\n",
       "      <td>A</td>\n",
       "      <td>29</td>\n",
       "    </tr>\n",
       "    <tr>\n",
       "      <th>5</th>\n",
       "      <td>0</td>\n",
       "      <td>B</td>\n",
       "      <td>45</td>\n",
       "    </tr>\n",
       "    <tr>\n",
       "      <th>6</th>\n",
       "      <td>1</td>\n",
       "      <td>B</td>\n",
       "      <td>55</td>\n",
       "    </tr>\n",
       "    <tr>\n",
       "      <th>7</th>\n",
       "      <td>2</td>\n",
       "      <td>B</td>\n",
       "      <td>29</td>\n",
       "    </tr>\n",
       "    <tr>\n",
       "      <th>8</th>\n",
       "      <td>3</td>\n",
       "      <td>B</td>\n",
       "      <td>56</td>\n",
       "    </tr>\n",
       "    <tr>\n",
       "      <th>9</th>\n",
       "      <td>4</td>\n",
       "      <td>B</td>\n",
       "      <td>40</td>\n",
       "    </tr>\n",
       "    <tr>\n",
       "      <th>10</th>\n",
       "      <td>0</td>\n",
       "      <td>C</td>\n",
       "      <td>30</td>\n",
       "    </tr>\n",
       "    <tr>\n",
       "      <th>11</th>\n",
       "      <td>1</td>\n",
       "      <td>C</td>\n",
       "      <td>29</td>\n",
       "    </tr>\n",
       "    <tr>\n",
       "      <th>12</th>\n",
       "      <td>2</td>\n",
       "      <td>C</td>\n",
       "      <td>33</td>\n",
       "    </tr>\n",
       "    <tr>\n",
       "      <th>13</th>\n",
       "      <td>3</td>\n",
       "      <td>C</td>\n",
       "      <td>37</td>\n",
       "    </tr>\n",
       "    <tr>\n",
       "      <th>14</th>\n",
       "      <td>4</td>\n",
       "      <td>C</td>\n",
       "      <td>27</td>\n",
       "    </tr>\n",
       "    <tr>\n",
       "      <th>15</th>\n",
       "      <td>0</td>\n",
       "      <td>D</td>\n",
       "      <td>54</td>\n",
       "    </tr>\n",
       "    <tr>\n",
       "      <th>16</th>\n",
       "      <td>1</td>\n",
       "      <td>D</td>\n",
       "      <td>60</td>\n",
       "    </tr>\n",
       "    <tr>\n",
       "      <th>17</th>\n",
       "      <td>2</td>\n",
       "      <td>D</td>\n",
       "      <td>51</td>\n",
       "    </tr>\n",
       "    <tr>\n",
       "      <th>18</th>\n",
       "      <td>3</td>\n",
       "      <td>D</td>\n",
       "      <td>62</td>\n",
       "    </tr>\n",
       "    <tr>\n",
       "      <th>19</th>\n",
       "      <td>4</td>\n",
       "      <td>D</td>\n",
       "      <td>73</td>\n",
       "    </tr>\n",
       "  </tbody>\n",
       "</table>\n",
       "</div>"
      ],
      "text/plain": [
       "    index treatment  value\n",
       "0       0         A     25\n",
       "1       1         A     30\n",
       "2       2         A     28\n",
       "3       3         A     36\n",
       "4       4         A     29\n",
       "5       0         B     45\n",
       "6       1         B     55\n",
       "7       2         B     29\n",
       "8       3         B     56\n",
       "9       4         B     40\n",
       "10      0         C     30\n",
       "11      1         C     29\n",
       "12      2         C     33\n",
       "13      3         C     37\n",
       "14      4         C     27\n",
       "15      0         D     54\n",
       "16      1         D     60\n",
       "17      2         D     51\n",
       "18      3         D     62\n",
       "19      4         D     73"
      ]
     },
     "execution_count": 5,
     "metadata": {},
     "output_type": "execute_result"
    }
   ],
   "source": [
    "## transformer la table pour avoir un suitable for stats.model\n",
    "df_melt = pandas.melt(data.reset_index(), id_vars=[\"index\"], value_vars=data.columns)\n",
    "df_melt.columns = [\"index\", \"treatment\", \"value\"]\n",
    "df_melt"
   ]
  },
  {
   "cell_type": "code",
   "execution_count": 8,
   "id": "2e92c37e",
   "metadata": {},
   "outputs": [
    {
     "data": {
      "image/png": "[encoded data removed]",
      "text/plain": [
       "<Figure size 640x480 with 1 Axes>"
      ]
     },
     "metadata": {},
     "output_type": "display_data"
    }
   ],
   "source": [
    "import seaborn\n",
    "import matplotlib.pyplot as plt\n",
    "## utiliser un boxplot pour identifier la distribution :\n",
    "seaborn.boxplot(x=\"treatment\", y=\"value\", data=df_melt)\n",
    "plt.show()"
   ]
  },
  {
   "cell_type": "code",
   "execution_count": 9,
   "id": "1763a268",
   "metadata": {},
   "outputs": [
    {
     "name": "stdout",
     "output_type": "stream",
     "text": [
      "17.492810457516338 2.639241146210922e-05\n"
     ]
    }
   ],
   "source": [
    "import scipy\n",
    "\n",
    "## ANOVA one way prend les modalités de la variable catégorielle\n",
    "## et retourne un résultat avec la p value :\n",
    "\n",
    "fval, pval = scipy.stats.f_oneway(data[\"A\"], data[\"B\"], data[\"C\"], data[\"D\"])\n",
    "\n",
    "print(fval, pval) ## une p-value très significative !"
   ]
  },
  {
   "cell_type": "markdown",
   "id": "1173cc27",
   "metadata": {},
   "source": [
    "la p-value est inférieure au seuil de 5%, alors on peut dire que la f-value est significativement différente du hasard."
   ]
  },
  {
   "cell_type": "code",
   "execution_count": 15,
   "id": "d2af6b58",
   "metadata": {},
   "outputs": [
    {
     "data": {
      "text/html": [
       "<div>\n",
       "<style scoped>\n",
       "    .dataframe tbody tr th:only-of-type {\n",
       "        vertical-align: middle;\n",
       "    }\n",
       "\n",
       "    .dataframe tbody tr th {\n",
       "        vertical-align: top;\n",
       "    }\n",
       "\n",
       "    .dataframe thead th {\n",
       "        text-align: right;\n",
       "    }\n",
       "</style>\n",
       "<table border=\"1\" class=\"dataframe\">\n",
       "  <thead>\n",
       "    <tr style=\"text-align: right;\">\n",
       "      <th></th>\n",
       "      <th>sum_sq</th>\n",
       "      <th>df</th>\n",
       "      <th>F</th>\n",
       "      <th>PR(&gt;F)</th>\n",
       "    </tr>\n",
       "  </thead>\n",
       "  <tbody>\n",
       "    <tr>\n",
       "      <th>C(treatment)</th>\n",
       "      <td>3010.95</td>\n",
       "      <td>3.0</td>\n",
       "      <td>17.49281</td>\n",
       "      <td>0.000026</td>\n",
       "    </tr>\n",
       "    <tr>\n",
       "      <th>Residual</th>\n",
       "      <td>918.00</td>\n",
       "      <td>16.0</td>\n",
       "      <td>NaN</td>\n",
       "      <td>NaN</td>\n",
       "    </tr>\n",
       "  </tbody>\n",
       "</table>\n",
       "</div>"
      ],
      "text/plain": [
       "               sum_sq    df         F    PR(>F)\n",
       "C(treatment)  3010.95   3.0  17.49281  0.000026\n",
       "Residual       918.00  16.0       NaN       NaN"
      ]
     },
     "execution_count": 15,
     "metadata": {},
     "output_type": "execute_result"
    }
   ],
   "source": [
    "## Obtenir une meilleure présentation des résultats de l'ANOVA :\n",
    "import statsmodels.api\n",
    "from statsmodels.formula.api import ols\n",
    "\n",
    "## utilisation du modèle des moindres carrés ordinaires (OLS) :\n",
    "model = ols(\"value ~ C(treatment)\", data=df_melt).fit()\n",
    "model ## retourne un objet de statsmodels\n",
    "\n",
    "anova_table = statsmodels.api.stats.anova_lm(model, typ=2)\n",
    "anova_table\n",
    "\n",
    "## on pourrait utiliser bioinfokit pour obtenir un meilleur résultat visuel\n",
    "## Plus la F-value sera élevée, plus la p-value sera significative.\n",
    "## En gros ça fonctionne comme le pearsonr."
   ]
  },
  {
   "cell_type": "markdown",
   "id": "713d1138",
   "metadata": {},
   "source": [
    "A ce stade, on sait que les traitements (A, B, C et D) ont des effets statistiquement significatifs.\n",
    "En revanche, on ne sait pas quels traitements sont statistiquement plus significatifs que d'autre.\n",
    "En somme, les résultats des tests sont significatifs. Mais on n'a pas comparé nos traitements.\n",
    "\n",
    "Pour savoir quel traitement est plus significatif qu'un autre, on opère des tests de comparaisons par pair.\n",
    "On appelle ces tests des **tests post-hoc**. On utilise dans ce cas de figure le test de différenciation significative de Tukey.\n",
    "**Quelles sont les conditions de validités de ce test?** ; **Est-ce que c'est un test paramétrique ? Quelle est l'alternative en non-paramétrique?** On parle du **Tukey's HSD test**.\n",
    "En fait, il existe une famille de test post hoc, qui nous permettent de comparer les échantillons entre eux. Chaque technique à ses version non paramétrique d'une part. D'autre part, chaque test à ses implications statistiques (ré-ajustement de la p-value, de la valeur critique F etc)."
   ]
  },
  {
   "cell_type": "code",
   "execution_count": 17,
   "id": "09fed1ca",
   "metadata": {},
   "outputs": [
    {
     "name": "stderr",
     "output_type": "stream",
     "text": [
      "C:\\Users\\will\\Anaconda3\\envs\\statistics\\lib\\site-packages\\bioinfokit\\analys.py:402: FutureWarning: The default value of numeric_only in DataFrame.mean is deprecated. In a future version, it will default to False. In addition, specifying 'numeric_only=None' is deprecated. Select only valid columns or specify the value of numeric_only to silence this warning.\n",
      "  mult_group[ele] = df[df[xfac_var] == ele].mean().loc[res_var]\n"
     ]
    },
    {
     "data": {
      "text/html": [
       "<div>\n",
       "<style scoped>\n",
       "    .dataframe tbody tr th:only-of-type {\n",
       "        vertical-align: middle;\n",
       "    }\n",
       "\n",
       "    .dataframe tbody tr th {\n",
       "        vertical-align: top;\n",
       "    }\n",
       "\n",
       "    .dataframe thead th {\n",
       "        text-align: right;\n",
       "    }\n",
       "</style>\n",
       "<table border=\"1\" class=\"dataframe\">\n",
       "  <thead>\n",
       "    <tr style=\"text-align: right;\">\n",
       "      <th></th>\n",
       "      <th>group1</th>\n",
       "      <th>group2</th>\n",
       "      <th>Diff</th>\n",
       "      <th>Lower</th>\n",
       "      <th>Upper</th>\n",
       "      <th>q-value</th>\n",
       "      <th>p-value</th>\n",
       "    </tr>\n",
       "  </thead>\n",
       "  <tbody>\n",
       "    <tr>\n",
       "      <th>0</th>\n",
       "      <td>A</td>\n",
       "      <td>B</td>\n",
       "      <td>15.4</td>\n",
       "      <td>1.692871</td>\n",
       "      <td>29.107129</td>\n",
       "      <td>4.546156</td>\n",
       "      <td>0.025070</td>\n",
       "    </tr>\n",
       "    <tr>\n",
       "      <th>1</th>\n",
       "      <td>A</td>\n",
       "      <td>C</td>\n",
       "      <td>1.6</td>\n",
       "      <td>-12.107129</td>\n",
       "      <td>15.307129</td>\n",
       "      <td>0.472328</td>\n",
       "      <td>0.900000</td>\n",
       "    </tr>\n",
       "    <tr>\n",
       "      <th>2</th>\n",
       "      <td>A</td>\n",
       "      <td>D</td>\n",
       "      <td>30.4</td>\n",
       "      <td>16.692871</td>\n",
       "      <td>44.107129</td>\n",
       "      <td>8.974231</td>\n",
       "      <td>0.001000</td>\n",
       "    </tr>\n",
       "    <tr>\n",
       "      <th>3</th>\n",
       "      <td>B</td>\n",
       "      <td>C</td>\n",
       "      <td>13.8</td>\n",
       "      <td>0.092871</td>\n",
       "      <td>27.507129</td>\n",
       "      <td>4.073828</td>\n",
       "      <td>0.048178</td>\n",
       "    </tr>\n",
       "    <tr>\n",
       "      <th>4</th>\n",
       "      <td>B</td>\n",
       "      <td>D</td>\n",
       "      <td>15.0</td>\n",
       "      <td>1.292871</td>\n",
       "      <td>28.707129</td>\n",
       "      <td>4.428074</td>\n",
       "      <td>0.029578</td>\n",
       "    </tr>\n",
       "    <tr>\n",
       "      <th>5</th>\n",
       "      <td>C</td>\n",
       "      <td>D</td>\n",
       "      <td>28.8</td>\n",
       "      <td>15.092871</td>\n",
       "      <td>42.507129</td>\n",
       "      <td>8.501903</td>\n",
       "      <td>0.001000</td>\n",
       "    </tr>\n",
       "  </tbody>\n",
       "</table>\n",
       "</div>"
      ],
      "text/plain": [
       "  group1 group2  Diff      Lower      Upper   q-value   p-value\n",
       "0      A      B  15.4   1.692871  29.107129  4.546156  0.025070\n",
       "1      A      C   1.6 -12.107129  15.307129  0.472328  0.900000\n",
       "2      A      D  30.4  16.692871  44.107129  8.974231  0.001000\n",
       "3      B      C  13.8   0.092871  27.507129  4.073828  0.048178\n",
       "4      B      D  15.0   1.292871  28.707129  4.428074  0.029578\n",
       "5      C      D  28.8  15.092871  42.507129  8.501903  0.001000"
      ]
     },
     "execution_count": 17,
     "metadata": {},
     "output_type": "execute_result"
    }
   ],
   "source": [
    "import statsmodels.api\n",
    "import matplotlib.pyplot as plt\n",
    "\n",
    "from bioinfokit.analys import stat\n",
    "## nous on va réaliser le test de Tukey parce que ...\n",
    "# unequal sample size data, tukey_hsd uses Tukey-Kramer test\n",
    "res = stat()\n",
    "res.tukey_hsd(df=df_melt, res_var='value', xfac_var='treatment', anova_model='value ~ C(treatment)')\n",
    "res.tukey_summary\n",
    "\n"
   ]
  },
  {
   "cell_type": "code",
   "execution_count": 20,
   "id": "a18d91d3",
   "metadata": {},
   "outputs": [
    {
     "data": {
      "image/png": "[encoded data removed]",
      "text/plain": [
       "<Figure size 640x480 with 1 Axes>"
      ]
     },
     "metadata": {},
     "output_type": "display_data"
    }
   ],
   "source": [
    "## ANOVA assumption\n",
    "## plusieurs techniques possibles.\n",
    "## pour les gros volumes de données, les méthodes de résolution graphique\n",
    "##+ sont plus appropriées.\n",
    "## Par exemple, le QQPLOT.\n",
    "\n",
    "## Vérifier la normalité des résidus de l'ANOVA.\n",
    "import statsmodels.api\n",
    "import matplotlib.pyplot as plt\n",
    "\n",
    "statsmodels.api.qqplot(res.anova_std_residuals, line='45') ## qqplot des résidus\n",
    "plt.xlabel(\"Theoretical Quantiles\") ## quantiles théoriques\n",
    "plt.ylabel(\"Standardized Residuals\") ## écarts-types des résidus\n",
    "plt.show()"
   ]
  },
  {
   "cell_type": "markdown",
   "id": "b3f3728e",
   "metadata": {},
   "source": [
    "ça semble se rapprocher d'une distribution normale.\n",
    "Ensuite, il faut vérifier l'homogénéité des variances."
   ]
  },
  {
   "cell_type": "code",
   "execution_count": 21,
   "id": "d874f2d2",
   "metadata": {},
   "outputs": [
    {
     "name": "stdout",
     "output_type": "stream",
     "text": [
      "5.687843565012841 0.1278253399753447\n"
     ]
    }
   ],
   "source": [
    "import scipy.stats\n",
    "\n",
    "w, pvalue = scipy.stats.bartlett(data[\"A\"], data[\"B\"], data[\"C\"], data[\"D\"])\n",
    "print(w, pvalue)"
   ]
  },
  {
   "cell_type": "markdown",
   "id": "34a3d85f",
   "metadata": {},
   "source": [
    "LA p-value est de 0.13, on peut rejeter l'hypothèse nulle et dire que les variances sont homogènes."
   ]
  },
  {
   "cell_type": "markdown",
   "id": "6c8f43ca",
   "metadata": {},
   "source": [
    "# Two-way ANOVA"
   ]
  }
 ],
 "metadata": {
  "kernelspec": {
   "display_name": "Python 3 (ipykernel)",
   "language": "python",
   "name": "python3"
  },
  "language_info": {
   "codemirror_mode": {
    "name": "ipython",
    "version": 3
   },
   "file_extension": ".py",
   "mimetype": "text/x-python",
   "name": "python",
   "nbconvert_exporter": "python",
   "pygments_lexer": "ipython3",
   "version": "3.9.15"
  }
 },
 "nbformat": 4,
 "nbformat_minor": 5
}
