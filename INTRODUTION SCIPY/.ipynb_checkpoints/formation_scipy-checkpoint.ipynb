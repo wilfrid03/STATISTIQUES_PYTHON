{
 "cells": [
  {
   "cell_type": "markdown",
   "id": "84a5db8a",
   "metadata": {},
   "source": [
    "# Scipy dans Python"
   ]
  },
  {
   "cell_type": "markdown",
   "id": "fc92949b",
   "metadata": {},
   "source": [
    "## Qu'est-ce que scipy ?\n",
    "\n",
    "pour le calcul scientifique. Python = très puissant grâce aux modules comme scipy == +100 librairies.\n",
    "Quand on solve problem ou quand on déve une app, les librairies python permettent de gagner du temps.\n",
    "Les fonctions sont implémentées de sorte à être le plus efficientes possibles.\n",
    "\n",
    "Usages :\n",
    "- statistics,\n",
    "- traitement d'images,\n",
    "- ...\n",
    "\n",
    "## Agenda :\n",
    "- qu'est-ce que scipy ?\n",
    "- installation,\n",
    "- les sous-paquets : explications des packages disposibles dans scipy. Vue d'ensemble des packages qui vont être présentés par la suite.\n",
    "- scipy clusters,\n",
    "- scipy constants,\n",
    "- scipy FFTPACK\n",
    "- scipy interpolation,\n",
    "- scipy linalg,\n",
    "- scipy ndimage"
   ]
  },
  {
   "cell_type": "markdown",
   "id": "358662e0",
   "metadata": {},
   "source": [
    "## Qu'est-ce que scipy ?\n",
    "\n",
    "Très populaire et très puissante pour l'analyse de données.\n",
    "Pourquoi cette popularité ?\n",
    "- auprès de la communauté scientifique,\n",
    "- plusieurs fonctions élaborées (algo mathématiques),\n",
    "- construit sur numpy,\n",
    "- accès aux fonctions élaborées et aux résultats simplifiés,\n",
    "- fourni des fonctions de représentation, d'analyse de données.\n",
    "\n",
    "Pas besoin d'importer numpy car contient les fonctions de numpy.\n"
   ]
  },
  {
   "cell_type": "markdown",
   "id": "5c792477",
   "metadata": {},
   "source": [
    "## Installation\n",
    "\n",
    "- Utiliser pip install scipy dans la console du venv dédié.\n",
    "- conda install -c anaconda scipy\n",
    "\n",
    "Anaconda est une distribution."
   ]
  },
  {
   "attachments": {},
   "cell_type": "markdown",
   "id": "eb9cc676",
   "metadata": {},
   "source": [
    "## Sous-paquets de scipy\n",
    "\n",
    "pour le calcul scientifique. Fais pour les opérations complexes.\n",
    "\n",
    "Les paquets les plus utilisés :\n",
    "\n",
    "cluster : pour les classifications. Utile pour le ML.\n",
    "constants : pour les constantes en physique ou en mathématiques.\n",
    "fftpack : pour les transformations de Fourier.\n",
    "integrate : intégrer des routines\n",
    "interpolation : permet de faire des interpolations\n",
    "linalg : pour les opérations d'algèbre linéaire.\n",
    "io : pour les input et output de données.\n",
    "odr : régression distance orthogonal\n",
    "optimize : optimisation\n",
    "signal : traitement du signal\n",
    "sparse : sparse les matrices et les routinées associées\n",
    "spatial : structures de données spatiales et algorithmes.\n",
    "special : fonctions spéciales\n",
    "stats : statistiques\n",
    "weaves : pour rédiger\n",
    "\n",
    "Tous les paquets sont indépendants les uns des autres.\n",
    "Pour chaque possibilité, on a des packets dédiés."
   ]
  },
  {
   "cell_type": "markdown",
   "id": "9adea08a",
   "metadata": {},
   "source": [
    "## scipy cluster\n",
    "\n",
    "Très important dans scipy et dans la statistique en général. Permet de diviser la population étudiée en groupe d'individu similaires.<br/>\n",
    "Un cluster est un groupe formé suite à une opération de clustering.\n",
    "\n",
    "### 2 types de clusters :\n",
    "- centraux :\n",
    "\n",
    "- hiérarchique :\n",
    "\n",
    "Par exemple :\n",
    "- on produit deux ensembles de valeurs numériques aléatoires avec numpy.\n",
    "- on joint les deux sets et ensuite, on blanchit les données.\n",
    "- le blanchiment normalise les données, processus essentiel pour utiliser le k-means.\n",
    "- Enfin, on applique le k-means avec les données blanchies + le nb de clusters souhaités.\n",
    "\n",
    "<a href=\"https://learndataa.com/2020/09/15/data-preprocessing-whitening-or-sphering-in-python/\">whiten data ou blanchissement des données</a>\n",
    "\n",
    "### Pratiquons :"
   ]
  },
  {
   "cell_type": "code",
   "execution_count": 1,
   "id": "8bd54821",
   "metadata": {},
   "outputs": [],
   "source": [
    "import numpy \n",
    "from scipy.cluster.vq import kmeans, whiten\n",
    "import matplotlib.pyplot as plt \n",
    "import seaborn\n",
    "seaborn.set_style(\"darkgrid\")"
   ]
  },
  {
   "cell_type": "code",
   "execution_count": 2,
   "id": "75546bf1",
   "metadata": {},
   "outputs": [],
   "source": [
    "## Commencer par créer 50 points de datapoints\n",
    "\n",
    "pts=100\n",
    "a = numpy.random.multivariate_normal([0,0], [[4,1], [1,4]], size=pts)\n",
    "b = numpy.random.multivariate_normal([30,10], [[10,2], [2,1]], size=pts)\n",
    "\n",
    "features=numpy.concatenate( (a,b) )"
   ]
  },
  {
   "cell_type": "code",
   "execution_count": 4,
   "id": "c994bb46",
   "metadata": {},
   "outputs": [
    {
     "data": {
      "image/png": "[encoded data removed]",
      "text/plain": [
       "<Figure size 640x480 with 1 Axes>"
      ]
     },
     "metadata": {},
     "output_type": "display_data"
    }
   ],
   "source": [
    "## blanchir les données\n",
    "w = whiten(features)\n",
    "\n",
    "## id deux clusters :\n",
    "codebook, distorsion = kmeans(w, 2)\n",
    "\n",
    "## plotting :\n",
    "plt.scatter(w[:,0], w[:,1])\n",
    "plt.scatter(codebook[:,0], codebook[:,1], c=\"r\")\n",
    "plt.show()\n",
    "\n",
    " "
   ]
  },
  {
   "cell_type": "markdown",
   "id": "67816f88",
   "metadata": {},
   "source": [
    "Les points rouges sont les centroïdes des clusters."
   ]
  },
  {
   "cell_type": "markdown",
   "id": "d2fa064d",
   "metadata": {},
   "source": [
    "## scipy constants\n",
    "\n",
    "Les constantes sont utilisées dans le domaine du calcul scientifique. Par exemple, la gravité est une constante en physique."
   ]
  },
  {
   "cell_type": "code",
   "execution_count": null,
   "id": "7a57729c",
   "metadata": {},
   "outputs": [],
   "source": []
  },
  {
   "cell_type": "code",
   "execution_count": null,
   "id": "2611936d",
   "metadata": {},
   "outputs": [],
   "source": []
  },
  {
   "cell_type": "code",
   "execution_count": null,
   "id": "a06fa79b",
   "metadata": {},
   "outputs": [],
   "source": []
  },
  {
   "cell_type": "code",
   "execution_count": null,
   "id": "5e6beaea",
   "metadata": {},
   "outputs": [],
   "source": []
  },
  {
   "cell_type": "code",
   "execution_count": null,
   "id": "a4255a6f",
   "metadata": {},
   "outputs": [],
   "source": []
  },
  {
   "cell_type": "code",
   "execution_count": null,
   "id": "840705f3",
   "metadata": {},
   "outputs": [],
   "source": []
  },
  {
   "cell_type": "code",
   "execution_count": null,
   "id": "8ca81242",
   "metadata": {},
   "outputs": [],
   "source": []
  },
  {
   "cell_type": "code",
   "execution_count": null,
   "id": "2e00a3df",
   "metadata": {},
   "outputs": [],
   "source": []
  },
  {
   "cell_type": "code",
   "execution_count": null,
   "id": "cfc027e3",
   "metadata": {},
   "outputs": [],
   "source": []
  },
  {
   "cell_type": "code",
   "execution_count": null,
   "id": "a82297da",
   "metadata": {},
   "outputs": [],
   "source": []
  },
  {
   "cell_type": "code",
   "execution_count": null,
   "id": "96d5f928",
   "metadata": {},
   "outputs": [],
   "source": []
  },
  {
   "cell_type": "code",
   "execution_count": null,
   "id": "eaef80cc",
   "metadata": {},
   "outputs": [],
   "source": []
  },
  {
   "cell_type": "code",
   "execution_count": null,
   "id": "23ad818a",
   "metadata": {},
   "outputs": [],
   "source": []
  },
  {
   "cell_type": "code",
   "execution_count": null,
   "id": "c49f3d10",
   "metadata": {},
   "outputs": [],
   "source": []
  },
  {
   "cell_type": "code",
   "execution_count": null,
   "id": "233b352f",
   "metadata": {},
   "outputs": [],
   "source": []
  },
  {
   "cell_type": "code",
   "execution_count": null,
   "id": "013f8750",
   "metadata": {},
   "outputs": [],
   "source": []
  }
 ],
 "metadata": {
  "kernelspec": {
   "display_name": "Python 3 (ipykernel)",
   "language": "python",
   "name": "python3"
  },
  "language_info": {
   "codemirror_mode": {
    "name": "ipython",
    "version": 3
   },
   "file_extension": ".py",
   "mimetype": "text/x-python",
   "name": "python",
   "nbconvert_exporter": "python",
   "pygments_lexer": "ipython3",
   "version": "3.10.11"
  }
 },
 "nbformat": 4,
 "nbformat_minor": 5
}
