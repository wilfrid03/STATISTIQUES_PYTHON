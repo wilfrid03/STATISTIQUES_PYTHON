{
 "cells": [
  {
   "cell_type": "markdown",
   "id": "10e92b2d",
   "metadata": {},
   "source": [
    "# Statistiques descriptives avec Python\n",
    "Lien vers le cours : https://realpython.com/python-statistics/#calculating-descriptive-statistics\n",
    "\n",
    "## Introduction\n",
    "Dans le traitement de données, il est essentiel de pouvoir les décrire, résumer et représenter. En statistiques descriptives, on a deux approches : l'approche quantitative, pour résumer et décrire numériquement. Et l'approche visuelle, pour illustrer les données. La famille des statistiques descriptives comprend : les analyses univariées, bivariées et multivariées.\n",
    "\n",
    "## Objectifs \n",
    "- Quels indicateurs quantitatifs pour décrire et résumer un jeu de données,\n",
    "- Comment calculer des statistiques descriptives en python pure,\n",
    "- Comment faire des statistiques descriptives avec les libraires python,\n",
    "- Comment visualiser un jeu de données\n",
    "\n",
    "## Notions de base\n",
    "### Les types de mesures dans les statistiques descriptives\n",
    "- tendance centrale : moyenne, médiane et mode. Ce sont les valeurs centrales.\n",
    "- La variabilité : comment s'étend un jeu de données. On utilise la variance et l'écart-type (abrégé en std).\n",
    "- Corrélation/variabilité jointe : informer sur la relation entre une pair de variables dans un jeu de données. Les mesures les plus utiles sont **la covariance** et le **[coefficient de corrélation]**(https://realpython.com/numpy-scipy-pandas-correlation-python/)\n",
    "\n",
    "### Population et échantillon\n",
    "La population est généralement trop vaste pour être étudiée. On se repose alors sur des échantillons représentatifs. De ces échantillons, on peut faire remonter une conclusion sur la population globale.\n",
    "\n",
    "### Outliers\n",
    ": un point qui se différencie significativement de la majorité du jeu de données (que ça soit la population ou l'échantillon). Il existe plusieurs causes de ces écarts, par exemple :\n",
    "- variation naturelle,\n",
    "- changement de comportement dans le système observé,\n",
    "- erreur de saisie.\n",
    "Le plus souvent, c'est dans la saisie que se trouve l'erreur : instrument peu précis, matériel défectueux ou encore, la cause peut être humaine.\n",
    "**Mais pas de définition mathématique de ces points d'écarts**. Ils sont déterminés par l'expérience, la connaissance, le sujet etc.\n",
    "\n",
    "## Choisir une librairie pour les statistiques\n",
    "- statistics : une librairie intégrée au python de base. OK pour les petits jeux de données ou quand on peut pas importer autre chose.\n",
    "- numpy : librairie optimisée pour le calcul sur des tableaux unidimensionnel ou multi-dimensionnel. Sa structure de donnée de base est le **ndarray**. Contient des \"routines\" pour l'analyse statistiques.\n",
    "- scipy : basé et enrichi numpy. Contient le module scipy.stats pour l'analyse statistique.\n",
    "- pandas\n",
    "- matplotlib : fonctionne bien avec numpy, scipy et pandas, pour la représentation de données.\n",
    "\n",
    "**Dans de nombreux cas, les objets Series et DataFrame peuvent être utilisés à la place des tableaux NumPy. Souvent, on les passe simplement à une fonction statistique NumPy ou SciPy. En outre, on peut avoir les données non étiquetées d'une série ou d'un cadre de données sous la forme d'un objet np.ndarray en appelant .values ou .to_numpy().**\n",
    "\n",
    "## Python statistics module\n",
    "\n",
    "\n"
   ]
  },
  {
   "cell_type": "code",
   "execution_count": null,
   "id": "73d377fe",
   "metadata": {},
   "outputs": [],
   "source": [
    "## A la fin de ce cours, je sais ..."
   ]
  }
 ],
 "metadata": {
  "kernelspec": {
   "display_name": "Python 3 (ipykernel)",
   "language": "python",
   "name": "python3"
  },
  "language_info": {
   "codemirror_mode": {
    "name": "ipython",
    "version": 3
   },
   "file_extension": ".py",
   "mimetype": "text/x-python",
   "name": "python",
   "nbconvert_exporter": "python",
   "pygments_lexer": "ipython3",
   "version": "3.9.15"
  }
 },
 "nbformat": 4,
 "nbformat_minor": 5
}
